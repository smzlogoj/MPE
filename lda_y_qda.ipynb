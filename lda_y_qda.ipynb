{
 "cells": [
  {
   "cell_type": "code",
   "execution_count": 16,
   "id": "d8316e1f",
   "metadata": {},
   "outputs": [],
   "source": [
    "load('.RData')"
   ]
  },
  {
   "cell_type": "code",
   "execution_count": 17,
   "id": "4134cf1b",
   "metadata": {},
   "outputs": [],
   "source": [
    "library(ggplot2)\n",
    "library(tidyverse)\n",
    "library(ggpubr)\n",
    "library(scatterplot3d)\n",
    "library(reshape2)\n",
    "library(MASS)\n",
    "library(caret)\n",
    "library(klaR)"
   ]
  },
  {
   "cell_type": "code",
   "execution_count": 18,
   "id": "a495fe85",
   "metadata": {},
   "outputs": [],
   "source": [
    "fit_control <- trainControl(## 10-fold CV\n",
    "                           method = \"repeatedcv\",\n",
    "                           number = 10,\n",
    "                           ## repeated ten times\n",
    "                           repeats = 10,\n",
    "                           classProbs=TRUE)"
   ]
  },
  {
   "cell_type": "code",
   "execution_count": 19,
   "id": "2e230336",
   "metadata": {},
   "outputs": [
    {
     "data": {
      "text/html": [
       "<table class=\"dataframe\">\n",
       "<caption>A data.frame: 6 × 76</caption>\n",
       "<thead>\n",
       "\t<tr><th></th><th scope=col>MouseID</th><th scope=col>Genotype</th><th scope=col>Treatment</th><th scope=col>Behavior</th><th scope=col>class</th><th scope=col>DYRK1A_N</th><th scope=col>ITSN1_N</th><th scope=col>BDNF_N</th><th scope=col>NR1_N</th><th scope=col>NR2A_N</th><th scope=col>⋯</th><th scope=col>P3525_N</th><th scope=col>pCASP9_N</th><th scope=col>PSD95_N</th><th scope=col>SNCA_N</th><th scope=col>Ubiquitin_N</th><th scope=col>pGSK3B_Tyr216_N</th><th scope=col>SHH_N</th><th scope=col>pS6_N</th><th scope=col>SYP_N</th><th scope=col>CaNA_N</th></tr>\n",
       "\t<tr><th></th><th scope=col>&lt;chr&gt;</th><th scope=col>&lt;fct&gt;</th><th scope=col>&lt;fct&gt;</th><th scope=col>&lt;fct&gt;</th><th scope=col>&lt;fct&gt;</th><th scope=col>&lt;dbl&gt;</th><th scope=col>&lt;dbl&gt;</th><th scope=col>&lt;dbl&gt;</th><th scope=col>&lt;dbl&gt;</th><th scope=col>&lt;dbl&gt;</th><th scope=col>⋯</th><th scope=col>&lt;dbl&gt;</th><th scope=col>&lt;dbl&gt;</th><th scope=col>&lt;dbl&gt;</th><th scope=col>&lt;dbl&gt;</th><th scope=col>&lt;dbl&gt;</th><th scope=col>&lt;dbl&gt;</th><th scope=col>&lt;dbl&gt;</th><th scope=col>&lt;dbl&gt;</th><th scope=col>&lt;dbl&gt;</th><th scope=col>&lt;dbl&gt;</th></tr>\n",
       "</thead>\n",
       "<tbody>\n",
       "\t<tr><th scope=row>1</th><td>309_1</td><td>c</td><td>m</td><td>CS</td><td>cCSm</td><td>0.5036439</td><td>0.7471932</td><td>0.4301753</td><td>2.816329</td><td>5.990152</td><td>⋯</td><td>0.2475378</td><td>1.603310</td><td>2.014875</td><td>0.1082343</td><td>1.0449792</td><td>0.8315565</td><td>0.1888517</td><td>0.1063052</td><td>0.4270992</td><td>1.675652</td></tr>\n",
       "\t<tr><th scope=row>2</th><td>309_2</td><td>c</td><td>m</td><td>CS</td><td>cCSm</td><td>0.5146171</td><td>0.6890635</td><td>0.4117703</td><td>2.789514</td><td>5.685038</td><td>⋯</td><td>0.2576322</td><td>1.671738</td><td>2.004605</td><td>0.1097485</td><td>1.0098831</td><td>0.8492704</td><td>0.2004036</td><td>0.1065922</td><td>0.4415813</td><td>1.743610</td></tr>\n",
       "\t<tr><th scope=row>3</th><td>309_3</td><td>c</td><td>m</td><td>CS</td><td>cCSm</td><td>0.5091831</td><td>0.7302468</td><td>0.4183088</td><td>2.687201</td><td>5.622059</td><td>⋯</td><td>0.2553430</td><td>1.663550</td><td>2.016831</td><td>0.1081962</td><td>0.9968476</td><td>0.8467087</td><td>0.1936845</td><td>0.1083031</td><td>0.4357769</td><td>1.926427</td></tr>\n",
       "\t<tr><th scope=row>4</th><td>309_4</td><td>c</td><td>m</td><td>CS</td><td>cCSm</td><td>0.4421067</td><td>0.6170762</td><td>0.3586263</td><td>2.466947</td><td>4.979503</td><td>⋯</td><td>0.2511031</td><td>1.484624</td><td>1.957233</td><td>0.1198832</td><td>0.9902247</td><td>0.8332768</td><td>0.1921119</td><td>0.1031838</td><td>0.3916910</td><td>1.700563</td></tr>\n",
       "\t<tr><th scope=row>5</th><td>309_5</td><td>c</td><td>m</td><td>CS</td><td>cCSm</td><td>0.4349402</td><td>0.6174298</td><td>0.3588022</td><td>2.365785</td><td>4.718679</td><td>⋯</td><td>0.2517730</td><td>1.534835</td><td>2.009109</td><td>0.1195244</td><td>0.9977750</td><td>0.8786678</td><td>0.2056042</td><td>0.1047838</td><td>0.4341538</td><td>1.839730</td></tr>\n",
       "\t<tr><th scope=row>6</th><td>309_6</td><td>c</td><td>m</td><td>CS</td><td>cCSm</td><td>0.4475064</td><td>0.6281758</td><td>0.3673881</td><td>2.385939</td><td>4.807635</td><td>⋯</td><td>0.2444853</td><td>1.507777</td><td>2.003535</td><td>0.1206872</td><td>0.9201782</td><td>0.8436793</td><td>0.1904695</td><td>0.1064762</td><td>0.4398331</td><td>1.816389</td></tr>\n",
       "</tbody>\n",
       "</table>\n"
      ],
      "text/latex": [
       "A data.frame: 6 × 76\n",
       "\\begin{tabular}{r|lllllllllllllllllllll}\n",
       "  & MouseID & Genotype & Treatment & Behavior & class & DYRK1A\\_N & ITSN1\\_N & BDNF\\_N & NR1\\_N & NR2A\\_N & ⋯ & P3525\\_N & pCASP9\\_N & PSD95\\_N & SNCA\\_N & Ubiquitin\\_N & pGSK3B\\_Tyr216\\_N & SHH\\_N & pS6\\_N & SYP\\_N & CaNA\\_N\\\\\n",
       "  & <chr> & <fct> & <fct> & <fct> & <fct> & <dbl> & <dbl> & <dbl> & <dbl> & <dbl> & ⋯ & <dbl> & <dbl> & <dbl> & <dbl> & <dbl> & <dbl> & <dbl> & <dbl> & <dbl> & <dbl>\\\\\n",
       "\\hline\n",
       "\t1 & 309\\_1 & c & m & CS & cCSm & 0.5036439 & 0.7471932 & 0.4301753 & 2.816329 & 5.990152 & ⋯ & 0.2475378 & 1.603310 & 2.014875 & 0.1082343 & 1.0449792 & 0.8315565 & 0.1888517 & 0.1063052 & 0.4270992 & 1.675652\\\\\n",
       "\t2 & 309\\_2 & c & m & CS & cCSm & 0.5146171 & 0.6890635 & 0.4117703 & 2.789514 & 5.685038 & ⋯ & 0.2576322 & 1.671738 & 2.004605 & 0.1097485 & 1.0098831 & 0.8492704 & 0.2004036 & 0.1065922 & 0.4415813 & 1.743610\\\\\n",
       "\t3 & 309\\_3 & c & m & CS & cCSm & 0.5091831 & 0.7302468 & 0.4183088 & 2.687201 & 5.622059 & ⋯ & 0.2553430 & 1.663550 & 2.016831 & 0.1081962 & 0.9968476 & 0.8467087 & 0.1936845 & 0.1083031 & 0.4357769 & 1.926427\\\\\n",
       "\t4 & 309\\_4 & c & m & CS & cCSm & 0.4421067 & 0.6170762 & 0.3586263 & 2.466947 & 4.979503 & ⋯ & 0.2511031 & 1.484624 & 1.957233 & 0.1198832 & 0.9902247 & 0.8332768 & 0.1921119 & 0.1031838 & 0.3916910 & 1.700563\\\\\n",
       "\t5 & 309\\_5 & c & m & CS & cCSm & 0.4349402 & 0.6174298 & 0.3588022 & 2.365785 & 4.718679 & ⋯ & 0.2517730 & 1.534835 & 2.009109 & 0.1195244 & 0.9977750 & 0.8786678 & 0.2056042 & 0.1047838 & 0.4341538 & 1.839730\\\\\n",
       "\t6 & 309\\_6 & c & m & CS & cCSm & 0.4475064 & 0.6281758 & 0.3673881 & 2.385939 & 4.807635 & ⋯ & 0.2444853 & 1.507777 & 2.003535 & 0.1206872 & 0.9201782 & 0.8436793 & 0.1904695 & 0.1064762 & 0.4398331 & 1.816389\\\\\n",
       "\\end{tabular}\n"
      ],
      "text/markdown": [
       "\n",
       "A data.frame: 6 × 76\n",
       "\n",
       "| <!--/--> | MouseID &lt;chr&gt; | Genotype &lt;fct&gt; | Treatment &lt;fct&gt; | Behavior &lt;fct&gt; | class &lt;fct&gt; | DYRK1A_N &lt;dbl&gt; | ITSN1_N &lt;dbl&gt; | BDNF_N &lt;dbl&gt; | NR1_N &lt;dbl&gt; | NR2A_N &lt;dbl&gt; | ⋯ ⋯ | P3525_N &lt;dbl&gt; | pCASP9_N &lt;dbl&gt; | PSD95_N &lt;dbl&gt; | SNCA_N &lt;dbl&gt; | Ubiquitin_N &lt;dbl&gt; | pGSK3B_Tyr216_N &lt;dbl&gt; | SHH_N &lt;dbl&gt; | pS6_N &lt;dbl&gt; | SYP_N &lt;dbl&gt; | CaNA_N &lt;dbl&gt; |\n",
       "|---|---|---|---|---|---|---|---|---|---|---|---|---|---|---|---|---|---|---|---|---|---|\n",
       "| 1 | 309_1 | c | m | CS | cCSm | 0.5036439 | 0.7471932 | 0.4301753 | 2.816329 | 5.990152 | ⋯ | 0.2475378 | 1.603310 | 2.014875 | 0.1082343 | 1.0449792 | 0.8315565 | 0.1888517 | 0.1063052 | 0.4270992 | 1.675652 |\n",
       "| 2 | 309_2 | c | m | CS | cCSm | 0.5146171 | 0.6890635 | 0.4117703 | 2.789514 | 5.685038 | ⋯ | 0.2576322 | 1.671738 | 2.004605 | 0.1097485 | 1.0098831 | 0.8492704 | 0.2004036 | 0.1065922 | 0.4415813 | 1.743610 |\n",
       "| 3 | 309_3 | c | m | CS | cCSm | 0.5091831 | 0.7302468 | 0.4183088 | 2.687201 | 5.622059 | ⋯ | 0.2553430 | 1.663550 | 2.016831 | 0.1081962 | 0.9968476 | 0.8467087 | 0.1936845 | 0.1083031 | 0.4357769 | 1.926427 |\n",
       "| 4 | 309_4 | c | m | CS | cCSm | 0.4421067 | 0.6170762 | 0.3586263 | 2.466947 | 4.979503 | ⋯ | 0.2511031 | 1.484624 | 1.957233 | 0.1198832 | 0.9902247 | 0.8332768 | 0.1921119 | 0.1031838 | 0.3916910 | 1.700563 |\n",
       "| 5 | 309_5 | c | m | CS | cCSm | 0.4349402 | 0.6174298 | 0.3588022 | 2.365785 | 4.718679 | ⋯ | 0.2517730 | 1.534835 | 2.009109 | 0.1195244 | 0.9977750 | 0.8786678 | 0.2056042 | 0.1047838 | 0.4341538 | 1.839730 |\n",
       "| 6 | 309_6 | c | m | CS | cCSm | 0.4475064 | 0.6281758 | 0.3673881 | 2.385939 | 4.807635 | ⋯ | 0.2444853 | 1.507777 | 2.003535 | 0.1206872 | 0.9201782 | 0.8436793 | 0.1904695 | 0.1064762 | 0.4398331 | 1.816389 |\n",
       "\n"
      ],
      "text/plain": [
       "  MouseID Genotype Treatment Behavior class DYRK1A_N  ITSN1_N   BDNF_N   \n",
       "1 309_1   c        m         CS       cCSm  0.5036439 0.7471932 0.4301753\n",
       "2 309_2   c        m         CS       cCSm  0.5146171 0.6890635 0.4117703\n",
       "3 309_3   c        m         CS       cCSm  0.5091831 0.7302468 0.4183088\n",
       "4 309_4   c        m         CS       cCSm  0.4421067 0.6170762 0.3586263\n",
       "5 309_5   c        m         CS       cCSm  0.4349402 0.6174298 0.3588022\n",
       "6 309_6   c        m         CS       cCSm  0.4475064 0.6281758 0.3673881\n",
       "  NR1_N    NR2A_N   ⋯ P3525_N   pCASP9_N PSD95_N  SNCA_N    Ubiquitin_N\n",
       "1 2.816329 5.990152 ⋯ 0.2475378 1.603310 2.014875 0.1082343 1.0449792  \n",
       "2 2.789514 5.685038 ⋯ 0.2576322 1.671738 2.004605 0.1097485 1.0098831  \n",
       "3 2.687201 5.622059 ⋯ 0.2553430 1.663550 2.016831 0.1081962 0.9968476  \n",
       "4 2.466947 4.979503 ⋯ 0.2511031 1.484624 1.957233 0.1198832 0.9902247  \n",
       "5 2.365785 4.718679 ⋯ 0.2517730 1.534835 2.009109 0.1195244 0.9977750  \n",
       "6 2.385939 4.807635 ⋯ 0.2444853 1.507777 2.003535 0.1206872 0.9201782  \n",
       "  pGSK3B_Tyr216_N SHH_N     pS6_N     SYP_N     CaNA_N  \n",
       "1 0.8315565       0.1888517 0.1063052 0.4270992 1.675652\n",
       "2 0.8492704       0.2004036 0.1065922 0.4415813 1.743610\n",
       "3 0.8467087       0.1936845 0.1083031 0.4357769 1.926427\n",
       "4 0.8332768       0.1921119 0.1031838 0.3916910 1.700563\n",
       "5 0.8786678       0.2056042 0.1047838 0.4341538 1.839730\n",
       "6 0.8436793       0.1904695 0.1064762 0.4398331 1.816389"
      ]
     },
     "metadata": {},
     "output_type": "display_data"
    }
   ],
   "source": [
    "head(df)"
   ]
  },
  {
   "cell_type": "code",
   "execution_count": 20,
   "id": "6192cf5c",
   "metadata": {},
   "outputs": [],
   "source": [
    "df.sc <- as.data.frame(scale(df[, 6:76]))\n",
    "df.sc$class <- df$class"
   ]
  },
  {
   "cell_type": "code",
   "execution_count": 21,
   "id": "866b0bb7",
   "metadata": {},
   "outputs": [
    {
     "data": {
      "text/html": [
       "<table class=\"dataframe\">\n",
       "<caption>A data.frame: 6 × 72</caption>\n",
       "<thead>\n",
       "\t<tr><th></th><th scope=col>DYRK1A_N</th><th scope=col>ITSN1_N</th><th scope=col>BDNF_N</th><th scope=col>NR1_N</th><th scope=col>NR2A_N</th><th scope=col>pAKT_N</th><th scope=col>pBRAF_N</th><th scope=col>pCAMKII_N</th><th scope=col>pCREB_N</th><th scope=col>pELK_N</th><th scope=col>⋯</th><th scope=col>pCASP9_N</th><th scope=col>PSD95_N</th><th scope=col>SNCA_N</th><th scope=col>Ubiquitin_N</th><th scope=col>pGSK3B_Tyr216_N</th><th scope=col>SHH_N</th><th scope=col>pS6_N</th><th scope=col>SYP_N</th><th scope=col>CaNA_N</th><th scope=col>class</th></tr>\n",
       "\t<tr><th></th><th scope=col>&lt;dbl&gt;</th><th scope=col>&lt;dbl&gt;</th><th scope=col>&lt;dbl&gt;</th><th scope=col>&lt;dbl&gt;</th><th scope=col>&lt;dbl&gt;</th><th scope=col>&lt;dbl&gt;</th><th scope=col>&lt;dbl&gt;</th><th scope=col>&lt;dbl&gt;</th><th scope=col>&lt;dbl&gt;</th><th scope=col>&lt;dbl&gt;</th><th scope=col>⋯</th><th scope=col>&lt;dbl&gt;</th><th scope=col>&lt;dbl&gt;</th><th scope=col>&lt;dbl&gt;</th><th scope=col>&lt;dbl&gt;</th><th scope=col>&lt;dbl&gt;</th><th scope=col>&lt;dbl&gt;</th><th scope=col>&lt;dbl&gt;</th><th scope=col>&lt;dbl&gt;</th><th scope=col>&lt;dbl&gt;</th><th scope=col>&lt;fct&gt;</th></tr>\n",
       "</thead>\n",
       "<tbody>\n",
       "\t<tr><th scope=row>1</th><td>0.30141507</td><td> 0.50112135</td><td>2.2587013</td><td>1.4855275</td><td>2.2936961</td><td>-0.3788304</td><td>-0.1951950</td><td>-0.8902474</td><td> 0.5883106</td><td>0.67317357</td><td>⋯</td><td> 0.19856160</td><td>-0.8731476</td><td>-2.124528</td><td>-1.131267</td><td>-0.167265548</td><td>-1.2822191</td><td>-1.0503864</td><td>-0.27223386</td><td>1.053565</td><td>cCSm</td></tr>\n",
       "\t<tr><th scope=row>2</th><td>0.34495936</td><td> 0.27207425</td><td>1.8877010</td><td>1.4091193</td><td>1.9693630</td><td>-0.5559283</td><td>-0.3769223</td><td>-0.9533663</td><td> 0.4285810</td><td>0.34487863</td><td>⋯</td><td> 0.47330772</td><td>-0.9133671</td><td>-2.062360</td><td>-1.333445</td><td> 0.019042545</td><td>-0.8876409</td><td>-1.0304894</td><td>-0.05550198</td><td>1.265374</td><td>cCSm</td></tr>\n",
       "\t<tr><th scope=row>3</th><td>0.32339597</td><td> 0.43434770</td><td>2.0195004</td><td>1.1175771</td><td>1.9024166</td><td>-0.6205565</td><td>-0.2657387</td><td>-0.9601840</td><td> 0.5281811</td><td>0.27040705</td><td>⋯</td><td> 0.44043317</td><td>-0.8654873</td><td>-2.126094</td><td>-1.408539</td><td>-0.007900588</td><td>-1.1171427</td><td>-0.9118546</td><td>-0.14236800</td><td>1.835177</td><td>cCSm</td></tr>\n",
       "\t<tr><th scope=row>4</th><td>0.05722063</td><td>-0.01157613</td><td>0.8164430</td><td>0.4899607</td><td>1.2193862</td><td>-0.2789844</td><td>-0.2374033</td><td>-1.0615492</td><td>-0.1787454</td><td>0.34213711</td><td>⋯</td><td>-0.27797789</td><td>-1.0988975</td><td>-1.646258</td><td>-1.446691</td><td>-0.149172515</td><td>-1.1708604</td><td>-1.2668294</td><td>-0.80213571</td><td>1.131207</td><td>cCSm</td></tr>\n",
       "\t<tr><th scope=row>5</th><td>0.02878243</td><td>-0.01018251</td><td>0.8199886</td><td>0.2016973</td><td>0.9421321</td><td>-0.5197450</td><td>-0.3459253</td><td>-1.0756955</td><td>-0.6302974</td><td>0.14915112</td><td>⋯</td><td>-0.07637402</td><td>-0.8957298</td><td>-1.660991</td><td>-1.403196</td><td> 0.328232736</td><td>-0.7100037</td><td>-1.1558848</td><td>-0.16665810</td><td>1.564962</td><td>cCSm</td></tr>\n",
       "\t<tr><th scope=row>6</th><td>0.07864792</td><td> 0.03215969</td><td>0.9930598</td><td>0.2591266</td><td>1.0366923</td><td>-0.3850403</td><td>-0.2461765</td><td>-1.0700726</td><td>-0.5381514</td><td>0.01781565</td><td>⋯</td><td>-0.18501586</td><td>-0.9175582</td><td>-1.613249</td><td>-1.850208</td><td>-0.039762642</td><td>-1.2269602</td><td>-1.0385268</td><td>-0.08166385</td><td>1.492211</td><td>cCSm</td></tr>\n",
       "</tbody>\n",
       "</table>\n"
      ],
      "text/latex": [
       "A data.frame: 6 × 72\n",
       "\\begin{tabular}{r|lllllllllllllllllllll}\n",
       "  & DYRK1A\\_N & ITSN1\\_N & BDNF\\_N & NR1\\_N & NR2A\\_N & pAKT\\_N & pBRAF\\_N & pCAMKII\\_N & pCREB\\_N & pELK\\_N & ⋯ & pCASP9\\_N & PSD95\\_N & SNCA\\_N & Ubiquitin\\_N & pGSK3B\\_Tyr216\\_N & SHH\\_N & pS6\\_N & SYP\\_N & CaNA\\_N & class\\\\\n",
       "  & <dbl> & <dbl> & <dbl> & <dbl> & <dbl> & <dbl> & <dbl> & <dbl> & <dbl> & <dbl> & ⋯ & <dbl> & <dbl> & <dbl> & <dbl> & <dbl> & <dbl> & <dbl> & <dbl> & <dbl> & <fct>\\\\\n",
       "\\hline\n",
       "\t1 & 0.30141507 &  0.50112135 & 2.2587013 & 1.4855275 & 2.2936961 & -0.3788304 & -0.1951950 & -0.8902474 &  0.5883106 & 0.67317357 & ⋯ &  0.19856160 & -0.8731476 & -2.124528 & -1.131267 & -0.167265548 & -1.2822191 & -1.0503864 & -0.27223386 & 1.053565 & cCSm\\\\\n",
       "\t2 & 0.34495936 &  0.27207425 & 1.8877010 & 1.4091193 & 1.9693630 & -0.5559283 & -0.3769223 & -0.9533663 &  0.4285810 & 0.34487863 & ⋯ &  0.47330772 & -0.9133671 & -2.062360 & -1.333445 &  0.019042545 & -0.8876409 & -1.0304894 & -0.05550198 & 1.265374 & cCSm\\\\\n",
       "\t3 & 0.32339597 &  0.43434770 & 2.0195004 & 1.1175771 & 1.9024166 & -0.6205565 & -0.2657387 & -0.9601840 &  0.5281811 & 0.27040705 & ⋯ &  0.44043317 & -0.8654873 & -2.126094 & -1.408539 & -0.007900588 & -1.1171427 & -0.9118546 & -0.14236800 & 1.835177 & cCSm\\\\\n",
       "\t4 & 0.05722063 & -0.01157613 & 0.8164430 & 0.4899607 & 1.2193862 & -0.2789844 & -0.2374033 & -1.0615492 & -0.1787454 & 0.34213711 & ⋯ & -0.27797789 & -1.0988975 & -1.646258 & -1.446691 & -0.149172515 & -1.1708604 & -1.2668294 & -0.80213571 & 1.131207 & cCSm\\\\\n",
       "\t5 & 0.02878243 & -0.01018251 & 0.8199886 & 0.2016973 & 0.9421321 & -0.5197450 & -0.3459253 & -1.0756955 & -0.6302974 & 0.14915112 & ⋯ & -0.07637402 & -0.8957298 & -1.660991 & -1.403196 &  0.328232736 & -0.7100037 & -1.1558848 & -0.16665810 & 1.564962 & cCSm\\\\\n",
       "\t6 & 0.07864792 &  0.03215969 & 0.9930598 & 0.2591266 & 1.0366923 & -0.3850403 & -0.2461765 & -1.0700726 & -0.5381514 & 0.01781565 & ⋯ & -0.18501586 & -0.9175582 & -1.613249 & -1.850208 & -0.039762642 & -1.2269602 & -1.0385268 & -0.08166385 & 1.492211 & cCSm\\\\\n",
       "\\end{tabular}\n"
      ],
      "text/markdown": [
       "\n",
       "A data.frame: 6 × 72\n",
       "\n",
       "| <!--/--> | DYRK1A_N &lt;dbl&gt; | ITSN1_N &lt;dbl&gt; | BDNF_N &lt;dbl&gt; | NR1_N &lt;dbl&gt; | NR2A_N &lt;dbl&gt; | pAKT_N &lt;dbl&gt; | pBRAF_N &lt;dbl&gt; | pCAMKII_N &lt;dbl&gt; | pCREB_N &lt;dbl&gt; | pELK_N &lt;dbl&gt; | ⋯ ⋯ | pCASP9_N &lt;dbl&gt; | PSD95_N &lt;dbl&gt; | SNCA_N &lt;dbl&gt; | Ubiquitin_N &lt;dbl&gt; | pGSK3B_Tyr216_N &lt;dbl&gt; | SHH_N &lt;dbl&gt; | pS6_N &lt;dbl&gt; | SYP_N &lt;dbl&gt; | CaNA_N &lt;dbl&gt; | class &lt;fct&gt; |\n",
       "|---|---|---|---|---|---|---|---|---|---|---|---|---|---|---|---|---|---|---|---|---|---|\n",
       "| 1 | 0.30141507 |  0.50112135 | 2.2587013 | 1.4855275 | 2.2936961 | -0.3788304 | -0.1951950 | -0.8902474 |  0.5883106 | 0.67317357 | ⋯ |  0.19856160 | -0.8731476 | -2.124528 | -1.131267 | -0.167265548 | -1.2822191 | -1.0503864 | -0.27223386 | 1.053565 | cCSm |\n",
       "| 2 | 0.34495936 |  0.27207425 | 1.8877010 | 1.4091193 | 1.9693630 | -0.5559283 | -0.3769223 | -0.9533663 |  0.4285810 | 0.34487863 | ⋯ |  0.47330772 | -0.9133671 | -2.062360 | -1.333445 |  0.019042545 | -0.8876409 | -1.0304894 | -0.05550198 | 1.265374 | cCSm |\n",
       "| 3 | 0.32339597 |  0.43434770 | 2.0195004 | 1.1175771 | 1.9024166 | -0.6205565 | -0.2657387 | -0.9601840 |  0.5281811 | 0.27040705 | ⋯ |  0.44043317 | -0.8654873 | -2.126094 | -1.408539 | -0.007900588 | -1.1171427 | -0.9118546 | -0.14236800 | 1.835177 | cCSm |\n",
       "| 4 | 0.05722063 | -0.01157613 | 0.8164430 | 0.4899607 | 1.2193862 | -0.2789844 | -0.2374033 | -1.0615492 | -0.1787454 | 0.34213711 | ⋯ | -0.27797789 | -1.0988975 | -1.646258 | -1.446691 | -0.149172515 | -1.1708604 | -1.2668294 | -0.80213571 | 1.131207 | cCSm |\n",
       "| 5 | 0.02878243 | -0.01018251 | 0.8199886 | 0.2016973 | 0.9421321 | -0.5197450 | -0.3459253 | -1.0756955 | -0.6302974 | 0.14915112 | ⋯ | -0.07637402 | -0.8957298 | -1.660991 | -1.403196 |  0.328232736 | -0.7100037 | -1.1558848 | -0.16665810 | 1.564962 | cCSm |\n",
       "| 6 | 0.07864792 |  0.03215969 | 0.9930598 | 0.2591266 | 1.0366923 | -0.3850403 | -0.2461765 | -1.0700726 | -0.5381514 | 0.01781565 | ⋯ | -0.18501586 | -0.9175582 | -1.613249 | -1.850208 | -0.039762642 | -1.2269602 | -1.0385268 | -0.08166385 | 1.492211 | cCSm |\n",
       "\n"
      ],
      "text/plain": [
       "  DYRK1A_N   ITSN1_N     BDNF_N    NR1_N     NR2A_N    pAKT_N     pBRAF_N   \n",
       "1 0.30141507  0.50112135 2.2587013 1.4855275 2.2936961 -0.3788304 -0.1951950\n",
       "2 0.34495936  0.27207425 1.8877010 1.4091193 1.9693630 -0.5559283 -0.3769223\n",
       "3 0.32339597  0.43434770 2.0195004 1.1175771 1.9024166 -0.6205565 -0.2657387\n",
       "4 0.05722063 -0.01157613 0.8164430 0.4899607 1.2193862 -0.2789844 -0.2374033\n",
       "5 0.02878243 -0.01018251 0.8199886 0.2016973 0.9421321 -0.5197450 -0.3459253\n",
       "6 0.07864792  0.03215969 0.9930598 0.2591266 1.0366923 -0.3850403 -0.2461765\n",
       "  pCAMKII_N  pCREB_N    pELK_N     ⋯ pCASP9_N    PSD95_N    SNCA_N   \n",
       "1 -0.8902474  0.5883106 0.67317357 ⋯  0.19856160 -0.8731476 -2.124528\n",
       "2 -0.9533663  0.4285810 0.34487863 ⋯  0.47330772 -0.9133671 -2.062360\n",
       "3 -0.9601840  0.5281811 0.27040705 ⋯  0.44043317 -0.8654873 -2.126094\n",
       "4 -1.0615492 -0.1787454 0.34213711 ⋯ -0.27797789 -1.0988975 -1.646258\n",
       "5 -1.0756955 -0.6302974 0.14915112 ⋯ -0.07637402 -0.8957298 -1.660991\n",
       "6 -1.0700726 -0.5381514 0.01781565 ⋯ -0.18501586 -0.9175582 -1.613249\n",
       "  Ubiquitin_N pGSK3B_Tyr216_N SHH_N      pS6_N      SYP_N       CaNA_N   class\n",
       "1 -1.131267   -0.167265548    -1.2822191 -1.0503864 -0.27223386 1.053565 cCSm \n",
       "2 -1.333445    0.019042545    -0.8876409 -1.0304894 -0.05550198 1.265374 cCSm \n",
       "3 -1.408539   -0.007900588    -1.1171427 -0.9118546 -0.14236800 1.835177 cCSm \n",
       "4 -1.446691   -0.149172515    -1.1708604 -1.2668294 -0.80213571 1.131207 cCSm \n",
       "5 -1.403196    0.328232736    -0.7100037 -1.1558848 -0.16665810 1.564962 cCSm \n",
       "6 -1.850208   -0.039762642    -1.2269602 -1.0385268 -0.08166385 1.492211 cCSm "
      ]
     },
     "metadata": {},
     "output_type": "display_data"
    }
   ],
   "source": [
    "head(df.sc)"
   ]
  },
  {
   "cell_type": "code",
   "execution_count": 22,
   "id": "d6a634e2",
   "metadata": {},
   "outputs": [
    {
     "data": {
      "text/html": [
       "'The trainining set contains 735 rows'"
      ],
      "text/latex": [
       "'The trainining set contains 735 rows'"
      ],
      "text/markdown": [
       "'The trainining set contains 735 rows'"
      ],
      "text/plain": [
       "[1] \"The trainining set contains 735 rows\""
      ]
     },
     "metadata": {},
     "output_type": "display_data"
    },
    {
     "data": {
      "text/html": [
       "'The test set contains 312 rows'"
      ],
      "text/latex": [
       "'The test set contains 312 rows'"
      ],
      "text/markdown": [
       "'The test set contains 312 rows'"
      ],
      "text/plain": [
       "[1] \"The test set contains 312 rows\""
      ]
     },
     "metadata": {},
     "output_type": "display_data"
    }
   ],
   "source": [
    "set.seed(99)\n",
    "index <- createDataPartition(df.sc$class, p = 0.70, list = FALSE)\n",
    "train_data <- df.sc[index, ]\n",
    "test_data <- df.sc[-index, ]\n",
    "sprintf(\"The trainining set contains %d rows\", nrow(train_data))\n",
    "sprintf(\"The test set contains %d rows\", nrow(test_data))"
   ]
  },
  {
   "cell_type": "code",
   "execution_count": 25,
   "id": "d4764333",
   "metadata": {},
   "outputs": [
    {
     "data": {
      "text/html": [
       "<style>\n",
       ".list-inline {list-style: none; margin:0; padding: 0}\n",
       ".list-inline>li {display: inline-block}\n",
       ".list-inline>li:not(:last-child)::after {content: \"\\00b7\"; padding: 0 .5ex}\n",
       "</style>\n",
       "<ol class=list-inline><li>'NR1_N'</li><li>'pNR2B_N'</li><li>'ARC_N'</li><li>'pERK_N'</li><li>'DYRK1A_N'</li><li>'BRAF_N'</li></ol>\n"
      ],
      "text/latex": [
       "\\begin{enumerate*}\n",
       "\\item 'NR1\\_N'\n",
       "\\item 'pNR2B\\_N'\n",
       "\\item 'ARC\\_N'\n",
       "\\item 'pERK\\_N'\n",
       "\\item 'DYRK1A\\_N'\n",
       "\\item 'BRAF\\_N'\n",
       "\\end{enumerate*}\n"
      ],
      "text/markdown": [
       "1. 'NR1_N'\n",
       "2. 'pNR2B_N'\n",
       "3. 'ARC_N'\n",
       "4. 'pERK_N'\n",
       "5. 'DYRK1A_N'\n",
       "6. 'BRAF_N'\n",
       "\n",
       "\n"
      ],
      "text/plain": [
       "[1] \"NR1_N\"    \"pNR2B_N\"  \"ARC_N\"    \"pERK_N\"   \"DYRK1A_N\" \"BRAF_N\"  "
      ]
     },
     "metadata": {},
     "output_type": "display_data"
    }
   ],
   "source": [
    "#El modelo da error por variables coliniares.\n",
    "#eliminamos las variables con alta correlacion\n",
    "correlationMatrix <- cor(df.sc[, 1:71])\n",
    "highlyCorrelated <- findCorrelation(correlationMatrix, cutoff=0.9)\n",
    "highCorrelatedColumns <- colnames(correlationMatrix[, highlyCorrelated])\n",
    "highCorrelatedColumns\n",
    "train_data <- train_data[, !colnames(train_data) %in% c(highCorrelatedColumns, class)]\n",
    "test_data <- test_data[, !colnames(test_data) %in% c(highCorrelatedColumns, class)]\n"
   ]
  },
  {
   "cell_type": "code",
   "execution_count": 28,
   "id": "68c01e43",
   "metadata": {},
   "outputs": [
    {
     "data": {
      "text/plain": [
       "\n",
       "cCSm cCSs cSCm cSCs tCSm tCSs tSCm tSCs \n",
       " 105   84  105   84   95   74   95   93 "
      ]
     },
     "metadata": {},
     "output_type": "display_data"
    },
    {
     "data": {
      "text/plain": [
       "\n",
       "cCSm cCSs cSCm cSCs tCSm tCSs tSCm tSCs \n",
       " 105  105  105  105  105  105  105  105 "
      ]
     },
     "metadata": {},
     "output_type": "display_data"
    }
   ],
   "source": [
    "table(train_data$class)\n",
    "train_balanced <- upSample(x = train_data, y = train_data$class)\n",
    "train_balanced <- train_balanced[, !(colnames(train_balanced) %in% c(\"Class\"))]\n",
    "\n",
    "table(train_balanced$class)"
   ]
  },
  {
   "cell_type": "code",
   "execution_count": 29,
   "id": "32b06954",
   "metadata": {},
   "outputs": [
    {
     "data": {
      "text/plain": [
       "Linear Discriminant Analysis \n",
       "\n",
       "840 samples\n",
       " 65 predictor\n",
       "  8 classes: 'cCSm', 'cCSs', 'cSCm', 'cSCs', 'tCSm', 'tCSs', 'tSCm', 'tSCs' \n",
       "\n",
       "No pre-processing\n",
       "Resampling: Cross-Validated (10 fold, repeated 10 times) \n",
       "Summary of sample sizes: 754, 758, 756, 756, 755, 757, ... \n",
       "Resampling results:\n",
       "\n",
       "  Accuracy   Kappa   \n",
       "  0.9810848  0.978377\n"
      ]
     },
     "metadata": {},
     "output_type": "display_data"
    }
   ],
   "source": [
    "lda_model <- train(class ~ ., \n",
    "                   data = train_balanced, \n",
    "                   method = 'lda', \n",
    "                   trControl = fit_control)\n",
    "lda_model"
   ]
  },
  {
   "cell_type": "code",
   "execution_count": 30,
   "id": "b6942eff",
   "metadata": {},
   "outputs": [
    {
     "data": {
      "text/plain": [
       "Confusion Matrix and Statistics\n",
       "\n",
       "          Reference\n",
       "Prediction cCSm cCSs cSCm cSCs tCSm tCSs tSCm tSCs\n",
       "      cCSm   44    0    0    0    0    0    0    0\n",
       "      cCSs    0   34    0    0    0    0    0    0\n",
       "      cSCm    0    0   45    0    0    0    0    0\n",
       "      cSCs    0    0    0   36    0    0    0    0\n",
       "      tCSm    1    2    0    0   40    0    0    0\n",
       "      tCSs    0    0    0    0    0   31    0    0\n",
       "      tSCm    0    0    0    0    0    0   40    0\n",
       "      tSCs    0    0    0    0    0    0    0   39\n",
       "\n",
       "Overall Statistics\n",
       "                                         \n",
       "               Accuracy : 0.9904         \n",
       "                 95% CI : (0.9722, 0.998)\n",
       "    No Information Rate : 0.1442         \n",
       "    P-Value [Acc > NIR] : < 2.2e-16      \n",
       "                                         \n",
       "                  Kappa : 0.989          \n",
       "                                         \n",
       " Mcnemar's Test P-Value : NA             \n",
       "\n",
       "Statistics by Class:\n",
       "\n",
       "                     Class: cCSm Class: cCSs Class: cSCm Class: cSCs\n",
       "Sensitivity               0.9778      0.9444      1.0000      1.0000\n",
       "Specificity               1.0000      1.0000      1.0000      1.0000\n",
       "Pos Pred Value            1.0000      1.0000      1.0000      1.0000\n",
       "Neg Pred Value            0.9963      0.9928      1.0000      1.0000\n",
       "Prevalence                0.1442      0.1154      0.1442      0.1154\n",
       "Detection Rate            0.1410      0.1090      0.1442      0.1154\n",
       "Detection Prevalence      0.1410      0.1090      0.1442      0.1154\n",
       "Balanced Accuracy         0.9889      0.9722      1.0000      1.0000\n",
       "                     Class: tCSm Class: tCSs Class: tSCm Class: tSCs\n",
       "Sensitivity               1.0000     1.00000      1.0000       1.000\n",
       "Specificity               0.9890     1.00000      1.0000       1.000\n",
       "Pos Pred Value            0.9302     1.00000      1.0000       1.000\n",
       "Neg Pred Value            1.0000     1.00000      1.0000       1.000\n",
       "Prevalence                0.1282     0.09936      0.1282       0.125\n",
       "Detection Rate            0.1282     0.09936      0.1282       0.125\n",
       "Detection Prevalence      0.1378     0.09936      0.1282       0.125\n",
       "Balanced Accuracy         0.9945     1.00000      1.0000       1.000"
      ]
     },
     "metadata": {},
     "output_type": "display_data"
    }
   ],
   "source": [
    "lda_preds <- predict(lda_model, newdata = test_data)\n",
    "confusionMatrix(lda_preds, test_data$class)"
   ]
  },
  {
   "cell_type": "code",
   "execution_count": 87,
   "id": "524aef66",
   "metadata": {},
   "outputs": [],
   "source": [
    "# Warning message:\n",
    "# “model fit failed for Fold01.Rep01: parameter=none Error in qda.default(x, grouping, ...) : \n",
    "#   some group is too small for 'qda'\n",
    "\n"
   ]
  },
  {
   "cell_type": "code",
   "execution_count": 31,
   "id": "18d76003",
   "metadata": {},
   "outputs": [
    {
     "name": "stderr",
     "output_type": "stream",
     "text": [
      "Warning message:\n",
      "“model fit failed for Fold01.Rep05: parameter=none Error in qda.default(x, grouping, ...) : rank deficiency in group tCSs\n",
      "”\n",
      "Warning message:\n",
      "“model fit failed for Fold02.Rep08: parameter=none Error in qda.default(x, grouping, ...) : rank deficiency in group tCSs\n",
      "”\n",
      "Warning message in nominalTrainWorkflow(x = x, y = y, wts = weights, info = trainInfo, :\n",
      "“There were missing values in resampled performance measures.”\n"
     ]
    },
    {
     "data": {
      "text/plain": [
       "Quadratic Discriminant Analysis \n",
       "\n",
       "840 samples\n",
       " 65 predictor\n",
       "  8 classes: 'cCSm', 'cCSs', 'cSCm', 'cSCs', 'tCSm', 'tCSs', 'tSCm', 'tSCs' \n",
       "\n",
       "No pre-processing\n",
       "Resampling: Cross-Validated (10 fold, repeated 10 times) \n",
       "Summary of sample sizes: 756, 757, 757, 755, 757, 755, ... \n",
       "Resampling results:\n",
       "\n",
       "  Accuracy   Kappa    \n",
       "  0.9516009  0.9446771\n"
      ]
     },
     "metadata": {},
     "output_type": "display_data"
    }
   ],
   "source": [
    "qda_model <- train(class ~ ., \n",
    "                   data = train_balanced, \n",
    "                   method = 'qda', \n",
    "                   trControl = fit_control)\n",
    "qda_model"
   ]
  },
  {
   "cell_type": "code",
   "execution_count": 32,
   "id": "b5028443",
   "metadata": {},
   "outputs": [
    {
     "data": {
      "text/plain": [
       "Confusion Matrix and Statistics\n",
       "\n",
       "          Reference\n",
       "Prediction cCSm cCSs cSCm cSCs tCSm tCSs tSCm tSCs\n",
       "      cCSm   45    0    0    0    0    6    0    0\n",
       "      cCSs    0   36    0    0    0    3    0    0\n",
       "      cSCm    0    0   45    0    0    0    0    0\n",
       "      cSCs    0    0    0   35    0    0    0    0\n",
       "      tCSm    0    0    0    0   40    2    0    0\n",
       "      tCSs    0    0    0    0    0   20    0    0\n",
       "      tSCm    0    0    0    1    0    0   40    0\n",
       "      tSCs    0    0    0    0    0    0    0   39\n",
       "\n",
       "Overall Statistics\n",
       "                                        \n",
       "               Accuracy : 0.9615        \n",
       "                 95% CI : (0.9338, 0.98)\n",
       "    No Information Rate : 0.1442        \n",
       "    P-Value [Acc > NIR] : < 2.2e-16     \n",
       "                                        \n",
       "                  Kappa : 0.9559        \n",
       "                                        \n",
       " Mcnemar's Test P-Value : NA            \n",
       "\n",
       "Statistics by Class:\n",
       "\n",
       "                     Class: cCSm Class: cCSs Class: cSCm Class: cSCs\n",
       "Sensitivity               1.0000      1.0000      1.0000      0.9722\n",
       "Specificity               0.9775      0.9891      1.0000      1.0000\n",
       "Pos Pred Value            0.8824      0.9231      1.0000      1.0000\n",
       "Neg Pred Value            1.0000      1.0000      1.0000      0.9964\n",
       "Prevalence                0.1442      0.1154      0.1442      0.1154\n",
       "Detection Rate            0.1442      0.1154      0.1442      0.1122\n",
       "Detection Prevalence      0.1635      0.1250      0.1442      0.1122\n",
       "Balanced Accuracy         0.9888      0.9946      1.0000      0.9861\n",
       "                     Class: tCSm Class: tCSs Class: tSCm Class: tSCs\n",
       "Sensitivity               1.0000     0.64516      1.0000       1.000\n",
       "Specificity               0.9926     1.00000      0.9963       1.000\n",
       "Pos Pred Value            0.9524     1.00000      0.9756       1.000\n",
       "Neg Pred Value            1.0000     0.96233      1.0000       1.000\n",
       "Prevalence                0.1282     0.09936      0.1282       0.125\n",
       "Detection Rate            0.1282     0.06410      0.1282       0.125\n",
       "Detection Prevalence      0.1346     0.06410      0.1314       0.125\n",
       "Balanced Accuracy         0.9963     0.82258      0.9982       1.000"
      ]
     },
     "metadata": {},
     "output_type": "display_data"
    }
   ],
   "source": [
    "qda_preds <- predict(qda_model, newdata = test_data)\n",
    "confusionMatrix(qda_preds, test_data$class)"
   ]
  },
  {
   "cell_type": "code",
   "execution_count": null,
   "id": "0be84e61",
   "metadata": {},
   "outputs": [],
   "source": []
  }
 ],
 "metadata": {
  "kernelspec": {
   "display_name": "R",
   "language": "R",
   "name": "ir"
  },
  "language_info": {
   "codemirror_mode": "r",
   "file_extension": ".r",
   "mimetype": "text/x-r-source",
   "name": "R",
   "pygments_lexer": "r",
   "version": "4.2.1"
  }
 },
 "nbformat": 4,
 "nbformat_minor": 5
}
